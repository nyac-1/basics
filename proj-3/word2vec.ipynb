{
 "cells": [
  {
   "cell_type": "code",
   "execution_count": 2,
   "metadata": {},
   "outputs": [],
   "source": [
    "import nltk\n",
    "from nltk.stem import PorterStemmer\n",
    "from nltk.corpus import stopwords\n",
    "from nltk.stem import WordNetLemmatizer\n",
    "import re\n",
    "\n",
    "from gensim.models import Word2Vec"
   ]
  },
  {
   "cell_type": "code",
   "execution_count": 12,
   "metadata": {},
   "outputs": [],
   "source": [
    "message = \"\"\"I stand here today humbled by the task before us, grateful for the trust you have bestowed, mindful of the sacrifices borne by our ancestors. I thank President Bush for his service to our nation, as well as the generosity and cooperation he has shown throughout this transition.\n",
    "\n",
    "Forty-four Americans have now taken the presidential oath. The words have been spoken during rising tides of prosperity and the still waters of peace. Yet, every so often the oath is taken amidst gathering clouds and raging storms. At these moments, America has carried on not simply because of the skill or vision of those in high office, but because We the People have remained faithful to the ideals of our forbearers, and true to our founding documents.\n",
    "\n",
    "So it has been. So it must be with this generation of Americans. That we are in the midst of crisis is now well understood. Our nation is at war, against a far-reaching network of violence and hatred. Our economy is badly weakened, a consequence of greed and irresponsibility on the part of some, but also our collective failure to make hard choices and prepare the nation for a new age. Homes have been lost; jobs shed; businesses shuttered. Our health care is too costly; our schools fail too many; and each day brings further evidence that the ways we use energy strengthen our adversaries and threaten our planet.\n",
    "\n",
    "These are the indicators of crisis, subject to data and statistics. Less measurable but no less profound is a sapping of confidence across our land - a nagging fear that America's decline is inevitable, and that the next generation must lower its sights.\n",
    "\n",
    "Today I say to you that the challenges we face are real. They are serious and they are many. They will not be met easily or in a short span of time. But know this, America - they will be met.\n",
    "\n",
    "On this day, we gather because we have chosen hope over fear, unity of purpose over conflict and discord.\n",
    "\n",
    "On this day, we come to proclaim an end to the petty grievances and false promises, the recriminations and worn out dogmas, that for far too long have strangled our politics.\n",
    "\n",
    "We remain a young nation, but in the words of Scripture, the time has come to set aside childish things. The time has come to reaffirm our enduring spirit; to choose our better history; to carry forward that precious gift, that noble idea, passed on from generation to generation: the God-given promise that all are equal, all are free, and all deserve a chance to pursue their full measure of happiness.\n",
    "\n",
    "In reaffirming the greatness of our nation, we understand that greatness is never a given. It must be earned. Our journey has never been one of short-cuts or settling for less. It has not been the path for the faint-hearted - for those who prefer leisure over work, or seek only the pleasures of riches and fame. Rather, it has been the risk-takers, the doers, the makers of things - some celebrated but more often men and women obscure in their labor, who have carried us up the long, rugged path towards prosperity and freedom.\n",
    "\n",
    "For us, they packed up their few worldly possessions and traveled across oceans in search of a new life.\n",
    "\n",
    "For us, they toiled in sweatshops and settled the West; endured the lash of the whip and plowed the hard earth.\n",
    "\n",
    "For us, they fought and died, in places like Concord and Gettysburg; Normandy and Khe Sahn.\n",
    "\n",
    "Time and again these men and women struggled and sacrificed and worked till their hands were raw so that we might live a better life. They saw America as bigger than the sum of our individual ambitions; greater than all the differences of birth or wealth or faction.\n",
    "\n",
    "This is the journey we continue today. We remain the most prosperous, powerful nation on Earth. Our workers are no less productive than when this crisis began. Our minds are no less inventive, our goods and services no less needed than they were last week or last month or last year. Our capacity remains undiminished. But our time of standing pat, of protecting narrow interests and putting off unpleasant decisions - that time has surely passed. Starting today, we must pick ourselves up, dust ourselves off, and begin again the work of remaking America.\n",
    "\n",
    "For everywhere we look, there is work to be done. The state of the economy calls for action, bold and swift, and we will act - not only to create new jobs, but to lay a new foundation for growth. We will build the roads and bridges, the electric grids and digital lines that feed our commerce and bind us together. We will restore science to its rightful place, and wield technology's wonders to raise health care's quality and lower its cost. We will harness the sun and the winds and the soil to fuel our cars and run our factories. And we will transform our schools and colleges and universities to meet the demands of a new age. All this we can do. And all this we will do.\n",
    "\n",
    "Now, there are some who question the scale of our ambitions - who suggest that our system cannot tolerate too many big plans. Their memories are short. For they have forgotten what this country has already done; what free men and women can achieve when imagination is joined to common purpose, and necessity to courage.\n",
    "\n",
    "What the cynics fail to understand is that the ground has shifted beneath them - that the stale political arguments that have consumed us for so long no longer apply. The question we ask today is not whether our government is too big or too small, but whether it works - whether it helps families find jobs at a decent wage, care they can afford, a retirement that is dignified. Where the answer is yes, we intend to move forward. Where the answer is no, programs will end. And those of us who manage the public's dollars will be held to account - to spend wisely, reform bad habits, and do our business in the light of day - because only then can we restore the vital trust between a people and their government.\n",
    "Nor is the question before us whether the market is a force for good or ill. Its power to generate wealth and expand freedom is unmatched, but this crisis has reminded us that without a watchful eye, the market can spin out of control - and that a nation cannot prosper long when it favors only the prosperous. The success of our economy has always depended not just on the size of our Gross Domestic Product, but on the reach of our prosperity; on the ability to extend opportunity to every willing heart - not out of charity, but because it is the surest route to our common good.\n",
    "\n",
    "As for our common defense, we reject as false the choice between our safety and our ideals. Our Founding Fathers, faced with perils we can scarcely imagine, drafted a charter to assure the rule of law and the rights of man, a charter expanded by the blood of generations. Those ideals still light the world, and we will not give them up for expedience's sake. And so to all other peoples and governments who are watching today, from the grandest capitals to the small village where my father was born: know that America is a friend of each nation and every man, woman, and child who seeks a future of peace and dignity, and we are ready to lead once more.\n",
    "\n",
    "Recall that earlier generations faced down fascism and communism not just with missiles and tanks, but with the sturdy alliances and enduring convictions. They understood that our power alone cannot protect us, nor does it entitle us to do as we please. Instead, they knew that our power grows through its prudent use; our security emanates from the justness of our cause, the force of our example, the tempering qualities of humility and restraint.\n",
    "\n",
    "We are the keepers of this legacy. Guided by these principles once more, we can meet those new threats that demand even greater effort - even greater cooperation and understanding between nations. We will begin to responsibly leave Iraq to its people, and forge a hard-earned peace in Afghanistan. With old friends and former foes, we’ll work tirelessly to lessen the nuclear threat, and roll back the specter of a warming planet. We will not apologize for our way of life, nor will we waver in its defense, and for those who seek to advance their aims by inducing terror and slaughtering innocents, we say to you now that our spirit is stronger and cannot be broken; you cannot outlast us, and we will defeat you.\n",
    "\n",
    "For we know that our patchwork heritage is a strength, not a weakness. We are a nation of Christians and Muslims, Jews and Hindus - and non-believers. We are shaped by every language and culture, drawn from every end of this Earth; and because we have tasted the bitter swill of civil war and segregation, and emerged from that dark chapter stronger and more united, we cannot help but believe that the old hatreds shall someday pass; that the lines of tribe shall soon dissolve; that as the world grows smaller, our common humanity shall reveal itself; and that America must play its role in ushering in a new era of peace.\n",
    "\n",
    "To the Muslim world, we seek a new way forward, based on mutual interest and mutual respect. To those leaders around the globe who seek to sow conflict, or blame their society's ills on the West - know that your people will judge you on what you can build, not what you destroy. To those who cling to power through corruption and deceit and the silencing of dissent, know that you are on the wrong side of history; but that we will extend a hand if you are willing to unclench your fist.\n",
    "\n",
    "To the people of poor nations, we pledge to work alongside you to make your farms flourish and let clean waters flow; to nourish starved bodies and feed hungry minds. And to those nations like ours that enjoy relative plenty, we say we can no longer afford indifference to the suffering outside our borders; nor can we consume the world's resources without regard to effect. For the world has changed, and we must change with it.\n",
    "\n",
    "As we consider the road that unfolds before us, we remember with humble gratitude those brave Americans who, at this very hour, patrol far-off deserts and distant mountains. They have something to tell us, just as the fallen heroes who lie in Arlington whisper through the ages. We honor them not only because they are guardians of our liberty, but because they embody the spirit of service; a willingness to find meaning in something greater than themselves. And yet, at this moment - a moment that will define a generation - it is precisely this spirit that must inhabit us all.\n",
    "\n",
    "For as much as government can do and must do, it is ultimately the faith and determination of the American people upon which this nation relies. It is the kindness to take in a stranger when the levees break, the selflessness of workers who would rather cut their hours than see a friend lose their job which sees us through our darkest hours. It is the firefighter's courage to storm a stairway filled with smoke, but also a parent's willingness to nurture a child, that finally decides our fate.\n",
    "\n",
    "Our challenges may be new. The instruments with which we meet them may be new. But those values upon which our success depends - honesty and hard work, courage and fair play, tolerance and curiosity, loyalty and patriotism - these things are old. These things are true. They have been the quiet force of progress throughout our history. What is demanded then is a return to these truths. What is required of us now is a new era of responsibility - a recognition, on the part of every American, that we have duties to ourselves, our nation, and the world, duties that we do not grudgingly accept but rather seize gladly, firm in the knowledge that there is nothing so satisfying to the spirit, so defining of our character, than giving our all to a difficult task.\n",
    "\n",
    "This is the price and the promise of citizenship.\n",
    "\n",
    "This is the source of our confidence - the knowledge that God calls on us to shape an uncertain destiny.\n",
    "\n",
    "This is the meaning of our liberty and our creed - why men and women and children of every race and every faith can join in celebration across this magnificent mall, and why a man whose father less than sixty years ago might not have been served at a local restaurant can now stand before you to take a most sacred oath.\n",
    "\n",
    "So let us mark this day with remembrance, of who we are and how far we have traveled. In the year of America's birth, in the coldest of months, a small band of patriots huddled by dying campfires on the shores of an icy river. The capital was abandoned. The enemy was advancing. The snow was stained with blood. At a moment when the outcome of our revolution was most in doubt, the father of our nation ordered these words be read to the people:\n",
    "\"Let it be told to the future world...that in the depth of winter, when nothing but hope and virtue could survive...that the city and the country, alarmed at one common danger, came forth to meet [it].\"\n",
    "\n",
    "America. In the face of our common dangers, in this winter of our hardship, let us remember these timeless words. With hope and virtue, let us brave once more the icy currents, and endure what storms may come. Let it be said by our children's children that when we were tested we refused to let this journey end, that we did not turn back nor did we falter; and with eyes fixed on the horizon and God's grace upon us, we carried forth that great gift of freedom and delivered it safely to future generations.\n",
    "\n",
    "Thank you. God bless you and God bless the United States of America.\"\"\""
   ]
  },
  {
   "cell_type": "code",
   "execution_count": 15,
   "metadata": {},
   "outputs": [],
   "source": [
    "text = re.sub('[^a-zA-Z\\.]',' ',message)\n",
    "text = re.sub(r'\\s+', ' ', text)\n",
    "text = text.lower()\n",
    "text = re.sub(r'\\d',' ',text)\n",
    "text = re.sub(r'\\s+', ' ', text)"
   ]
  },
  {
   "cell_type": "code",
   "execution_count": 16,
   "metadata": {},
   "outputs": [
    {
     "data": {
      "text/plain": [
       "'i stand here today humbled by the task before us grateful for the trust you have bestowed mindful of the sacrifices borne by our ancestors. i thank president bush for his service to our nation as well as the generosity and cooperation he has shown throughout this transition. forty four americans have now taken the presidential oath. the words have been spoken during rising tides of prosperity and the still waters of peace. yet every so often the oath is taken amidst gathering clouds and raging storms. at these moments america has carried on not simply because of the skill or vision of those in high office but because we the people have remained faithful to the ideals of our forbearers and true to our founding documents. so it has been. so it must be with this generation of americans. that we are in the midst of crisis is now well understood. our nation is at war against a far reaching network of violence and hatred. our economy is badly weakened a consequence of greed and irresponsibility on the part of some but also our collective failure to make hard choices and prepare the nation for a new age. homes have been lost jobs shed businesses shuttered. our health care is too costly our schools fail too many and each day brings further evidence that the ways we use energy strengthen our adversaries and threaten our planet. these are the indicators of crisis subject to data and statistics. less measurable but no less profound is a sapping of confidence across our land a nagging fear that america s decline is inevitable and that the next generation must lower its sights. today i say to you that the challenges we face are real. they are serious and they are many. they will not be met easily or in a short span of time. but know this america they will be met. on this day we gather because we have chosen hope over fear unity of purpose over conflict and discord. on this day we come to proclaim an end to the petty grievances and false promises the recriminations and worn out dogmas that for far too long have strangled our politics. we remain a young nation but in the words of scripture the time has come to set aside childish things. the time has come to reaffirm our enduring spirit to choose our better history to carry forward that precious gift that noble idea passed on from generation to generation the god given promise that all are equal all are free and all deserve a chance to pursue their full measure of happiness. in reaffirming the greatness of our nation we understand that greatness is never a given. it must be earned. our journey has never been one of short cuts or settling for less. it has not been the path for the faint hearted for those who prefer leisure over work or seek only the pleasures of riches and fame. rather it has been the risk takers the doers the makers of things some celebrated but more often men and women obscure in their labor who have carried us up the long rugged path towards prosperity and freedom. for us they packed up their few worldly possessions and traveled across oceans in search of a new life. for us they toiled in sweatshops and settled the west endured the lash of the whip and plowed the hard earth. for us they fought and died in places like concord and gettysburg normandy and khe sahn. time and again these men and women struggled and sacrificed and worked till their hands were raw so that we might live a better life. they saw america as bigger than the sum of our individual ambitions greater than all the differences of birth or wealth or faction. this is the journey we continue today. we remain the most prosperous powerful nation on earth. our workers are no less productive than when this crisis began. our minds are no less inventive our goods and services no less needed than they were last week or last month or last year. our capacity remains undiminished. but our time of standing pat of protecting narrow interests and putting off unpleasant decisions that time has surely passed. starting today we must pick ourselves up dust ourselves off and begin again the work of remaking america. for everywhere we look there is work to be done. the state of the economy calls for action bold and swift and we will act not only to create new jobs but to lay a new foundation for growth. we will build the roads and bridges the electric grids and digital lines that feed our commerce and bind us together. we will restore science to its rightful place and wield technology s wonders to raise health care s quality and lower its cost. we will harness the sun and the winds and the soil to fuel our cars and run our factories. and we will transform our schools and colleges and universities to meet the demands of a new age. all this we can do. and all this we will do. now there are some who question the scale of our ambitions who suggest that our system cannot tolerate too many big plans. their memories are short. for they have forgotten what this country has already done what free men and women can achieve when imagination is joined to common purpose and necessity to courage. what the cynics fail to understand is that the ground has shifted beneath them that the stale political arguments that have consumed us for so long no longer apply. the question we ask today is not whether our government is too big or too small but whether it works whether it helps families find jobs at a decent wage care they can afford a retirement that is dignified. where the answer is yes we intend to move forward. where the answer is no programs will end. and those of us who manage the public s dollars will be held to account to spend wisely reform bad habits and do our business in the light of day because only then can we restore the vital trust between a people and their government. nor is the question before us whether the market is a force for good or ill. its power to generate wealth and expand freedom is unmatched but this crisis has reminded us that without a watchful eye the market can spin out of control and that a nation cannot prosper long when it favors only the prosperous. the success of our economy has always depended not just on the size of our gross domestic product but on the reach of our prosperity on the ability to extend opportunity to every willing heart not out of charity but because it is the surest route to our common good. as for our common defense we reject as false the choice between our safety and our ideals. our founding fathers faced with perils we can scarcely imagine drafted a charter to assure the rule of law and the rights of man a charter expanded by the blood of generations. those ideals still light the world and we will not give them up for expedience s sake. and so to all other peoples and governments who are watching today from the grandest capitals to the small village where my father was born know that america is a friend of each nation and every man woman and child who seeks a future of peace and dignity and we are ready to lead once more. recall that earlier generations faced down fascism and communism not just with missiles and tanks but with the sturdy alliances and enduring convictions. they understood that our power alone cannot protect us nor does it entitle us to do as we please. instead they knew that our power grows through its prudent use our security emanates from the justness of our cause the force of our example the tempering qualities of humility and restraint. we are the keepers of this legacy. guided by these principles once more we can meet those new threats that demand even greater effort even greater cooperation and understanding between nations. we will begin to responsibly leave iraq to its people and forge a hard earned peace in afghanistan. with old friends and former foes we ll work tirelessly to lessen the nuclear threat and roll back the specter of a warming planet. we will not apologize for our way of life nor will we waver in its defense and for those who seek to advance their aims by inducing terror and slaughtering innocents we say to you now that our spirit is stronger and cannot be broken you cannot outlast us and we will defeat you. for we know that our patchwork heritage is a strength not a weakness. we are a nation of christians and muslims jews and hindus and non believers. we are shaped by every language and culture drawn from every end of this earth and because we have tasted the bitter swill of civil war and segregation and emerged from that dark chapter stronger and more united we cannot help but believe that the old hatreds shall someday pass that the lines of tribe shall soon dissolve that as the world grows smaller our common humanity shall reveal itself and that america must play its role in ushering in a new era of peace. to the muslim world we seek a new way forward based on mutual interest and mutual respect. to those leaders around the globe who seek to sow conflict or blame their society s ills on the west know that your people will judge you on what you can build not what you destroy. to those who cling to power through corruption and deceit and the silencing of dissent know that you are on the wrong side of history but that we will extend a hand if you are willing to unclench your fist. to the people of poor nations we pledge to work alongside you to make your farms flourish and let clean waters flow to nourish starved bodies and feed hungry minds. and to those nations like ours that enjoy relative plenty we say we can no longer afford indifference to the suffering outside our borders nor can we consume the world s resources without regard to effect. for the world has changed and we must change with it. as we consider the road that unfolds before us we remember with humble gratitude those brave americans who at this very hour patrol far off deserts and distant mountains. they have something to tell us just as the fallen heroes who lie in arlington whisper through the ages. we honor them not only because they are guardians of our liberty but because they embody the spirit of service a willingness to find meaning in something greater than themselves. and yet at this moment a moment that will define a generation it is precisely this spirit that must inhabit us all. for as much as government can do and must do it is ultimately the faith and determination of the american people upon which this nation relies. it is the kindness to take in a stranger when the levees break the selflessness of workers who would rather cut their hours than see a friend lose their job which sees us through our darkest hours. it is the firefighter s courage to storm a stairway filled with smoke but also a parent s willingness to nurture a child that finally decides our fate. our challenges may be new. the instruments with which we meet them may be new. but those values upon which our success depends honesty and hard work courage and fair play tolerance and curiosity loyalty and patriotism these things are old. these things are true. they have been the quiet force of progress throughout our history. what is demanded then is a return to these truths. what is required of us now is a new era of responsibility a recognition on the part of every american that we have duties to ourselves our nation and the world duties that we do not grudgingly accept but rather seize gladly firm in the knowledge that there is nothing so satisfying to the spirit so defining of our character than giving our all to a difficult task. this is the price and the promise of citizenship. this is the source of our confidence the knowledge that god calls on us to shape an uncertain destiny. this is the meaning of our liberty and our creed why men and women and children of every race and every faith can join in celebration across this magnificent mall and why a man whose father less than sixty years ago might not have been served at a local restaurant can now stand before you to take a most sacred oath. so let us mark this day with remembrance of who we are and how far we have traveled. in the year of america s birth in the coldest of months a small band of patriots huddled by dying campfires on the shores of an icy river. the capital was abandoned. the enemy was advancing. the snow was stained with blood. at a moment when the outcome of our revolution was most in doubt the father of our nation ordered these words be read to the people let it be told to the future world...that in the depth of winter when nothing but hope and virtue could survive...that the city and the country alarmed at one common danger came forth to meet it . america. in the face of our common dangers in this winter of our hardship let us remember these timeless words. with hope and virtue let us brave once more the icy currents and endure what storms may come. let it be said by our children s children that when we were tested we refused to let this journey end that we did not turn back nor did we falter and with eyes fixed on the horizon and god s grace upon us we carried forth that great gift of freedom and delivered it safely to future generations. thank you. god bless you and god bless the united states of america.'"
      ]
     },
     "execution_count": 16,
     "metadata": {},
     "output_type": "execute_result"
    }
   ],
   "source": [
    "text"
   ]
  },
  {
   "cell_type": "code",
   "execution_count": 20,
   "metadata": {},
   "outputs": [],
   "source": [
    "sentences = nltk.sent_tokenize(text)\n",
    "sentences = [nltk.word_tokenize(sentence) for sentence in sentences]\n",
    "for i in range(len(sentences)):\n",
    "    sentences[i] = [word for word in sentences[i] if word not in stopwords.words('english')]"
   ]
  },
  {
   "cell_type": "code",
   "execution_count": 24,
   "metadata": {},
   "outputs": [],
   "source": [
    "model = Word2Vec(sentences, min_count=1)"
   ]
  },
  {
   "cell_type": "code",
   "execution_count": 39,
   "metadata": {},
   "outputs": [],
   "source": [
    "words = model.wv.key_to_index\n",
    "vector = model.wv['war']\n",
    "similar = model.wv.most_similar('war')"
   ]
  },
  {
   "cell_type": "code",
   "execution_count": 40,
   "metadata": {},
   "outputs": [
    {
     "data": {
      "text/plain": [
       "100"
      ]
     },
     "execution_count": 40,
     "metadata": {},
     "output_type": "execute_result"
    }
   ],
   "source": [
    "len(vector)"
   ]
  },
  {
   "cell_type": "code",
   "execution_count": 41,
   "metadata": {},
   "outputs": [
    {
     "data": {
      "text/plain": [
       "889"
      ]
     },
     "execution_count": 41,
     "metadata": {},
     "output_type": "execute_result"
    }
   ],
   "source": [
    "len(words)"
   ]
  },
  {
   "cell_type": "code",
   "execution_count": 42,
   "metadata": {},
   "outputs": [
    {
     "data": {
      "text/plain": [
       "[('high', 0.3261355757713318),\n",
       " ('america', 0.30298951268196106),\n",
       " ('demanded', 0.28314492106437683),\n",
       " ('whether', 0.2746233642101288),\n",
       " ('do', 0.2679809331893921),\n",
       " ('ages', 0.2568027973175049),\n",
       " ('government', 0.25519508123397827),\n",
       " ('can', 0.2404821813106537),\n",
       " ('done', 0.23869091272354126),\n",
       " ('failure', 0.23465058207511902)]"
      ]
     },
     "execution_count": 42,
     "metadata": {},
     "output_type": "execute_result"
    }
   ],
   "source": [
    "similar\n"
   ]
  },
  {
   "cell_type": "code",
   "execution_count": 49,
   "metadata": {},
   "outputs": [],
   "source": [
    "similar = model.wv.most_similar('great')"
   ]
  },
  {
   "cell_type": "code",
   "execution_count": 50,
   "metadata": {},
   "outputs": [
    {
     "data": {
      "text/plain": [
       "[('a', 0.35450130701065063),\n",
       " ('less', 0.2986811399459839),\n",
       " ('helps', 0.29601916670799255),\n",
       " ('again', 0.2949292063713074),\n",
       " ('do', 0.28200390934944153),\n",
       " ('sights', 0.2794784605503082),\n",
       " ('safety', 0.2781790792942047),\n",
       " ('political', 0.27335891127586365),\n",
       " ('mountains', 0.2653135061264038),\n",
       " ('borders', 0.2640599310398102)]"
      ]
     },
     "execution_count": 50,
     "metadata": {},
     "output_type": "execute_result"
    }
   ],
   "source": [
    "similar"
   ]
  },
  {
   "cell_type": "code",
   "execution_count": null,
   "metadata": {},
   "outputs": [],
   "source": []
  }
 ],
 "metadata": {
  "kernelspec": {
   "display_name": "Python 3",
   "language": "python",
   "name": "python3"
  },
  "language_info": {
   "codemirror_mode": {
    "name": "ipython",
    "version": 3
   },
   "file_extension": ".py",
   "mimetype": "text/x-python",
   "name": "python",
   "nbconvert_exporter": "python",
   "pygments_lexer": "ipython3",
   "version": "3.8.3"
  }
 },
 "nbformat": 4,
 "nbformat_minor": 4
}
